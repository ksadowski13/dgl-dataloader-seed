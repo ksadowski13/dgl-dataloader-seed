{
 "cells": [
  {
   "cell_type": "code",
   "execution_count": null,
   "metadata": {},
   "outputs": [],
   "source": [
    "import dgl\n",
    "from dgl.data import CoraGraphDataset\n",
    "import torch\n",
    "import os\n",
    "\n",
    "torch.manual_seed(13)\n",
    "dgl.seed(13)\n",
    "\n",
    "dataset = CoraGraphDataset(raw_dir='/home/ksadowski/datasets')\n",
    "g = dataset[0]\n",
    "\n",
    "sampler = dgl.dataloading.NeighborSampler([5, 10])\n",
    "dataloader = dgl.dataloading.DataLoader(\n",
    "    g, \n",
    "    g.nodes(), \n",
    "    sampler, \n",
    "    batch_size=1024,\n",
    "    shuffle=True,\n",
    "    drop_last=False,\n",
    "    num_workers=1,\n",
    ")\n",
    "\n",
    "# restart kernel and change iteration number to 2\n",
    "iteration = 1\n",
    "\n",
    "if not os.path.exists('data'):\n",
    "    os.makedirs('data')\n",
    "\n",
    "for epoch in range(10):\n",
    "    for batch, (src, dst, blocks) in enumerate(dataloader):\n",
    "        torch.save(src, f'data/src_{iteration}_epoch_{epoch}_batch_{batch}.pt')\n",
    "        torch.save(dst, f'data/dst_{iteration}_epoch_{epoch}_batch_{batch}.pt')"
   ]
  },
  {
   "cell_type": "code",
   "execution_count": 5,
   "metadata": {},
   "outputs": [],
   "source": [
    "for epoch in range(10):\n",
    "    for batch in range(3):\n",
    "        src_1 = torch.load(f'data/src_1_epoch_{epoch}_batch_{batch}.pt')\n",
    "        dst_1 = torch.load(f'data/dst_1_epoch_{epoch}_batch_{batch}.pt')\n",
    "        \n",
    "        src_2 = torch.load(f'data/src_2_epoch_{epoch}_batch_{batch}.pt')\n",
    "        dst_2 = torch.load(f'data/dst_2_epoch_{epoch}_batch_{batch}.pt')\n",
    "\n",
    "        assert torch.equal(src_1, src_2)\n",
    "        assert torch.equal(dst_1, dst_2)"
   ]
  }
 ],
 "metadata": {
  "interpreter": {
   "hash": "6d0ac083d5564be49237c341b14862a913023c56d493520fa5331b934ed23811"
  },
  "kernelspec": {
   "display_name": "Python 3.9.6 ('datascience-env')",
   "language": "python",
   "name": "python3"
  },
  "language_info": {
   "codemirror_mode": {
    "name": "ipython",
    "version": 3
   },
   "file_extension": ".py",
   "mimetype": "text/x-python",
   "name": "python",
   "nbconvert_exporter": "python",
   "pygments_lexer": "ipython3",
   "version": "3.9.6"
  },
  "orig_nbformat": 4
 },
 "nbformat": 4,
 "nbformat_minor": 2
}
